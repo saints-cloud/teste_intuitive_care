{
 "cells": [
  {
   "cell_type": "markdown",
   "metadata": {},
   "source": [
    "# Dependências Python\n",
    "* selenium\n",
    "* requests\n",
    "* webdriver_manager"
   ]
  },
  {
   "cell_type": "markdown",
   "metadata": {},
   "source": [
    "## O script fará o seguinte:\n",
    "\n",
    "Criará uma pasta chamada anexos (se não existir).\n",
    "\n",
    "Iniciará o navegador em modo headless.\n",
    "\n",
    "Acessará a página da ANS.\n",
    "\n",
    "Tentará fechar o banner de cookies.\n",
    "\n",
    "Buscará os links dos PDFs dos Anexos I e II.\n",
    "\n",
    "Se não encontrar via link, usará o método de clique para obter a URL.\n",
    "\n",
    "Fará o download dos PDFs para a pasta anexos.\n",
    "\n",
    "Compactará os PDFs em um arquivo chamado anexos_ans.zip.\n",
    "\n",
    "Exibirá mensagens no console informando o progresso."
   ]
  },
  {
   "cell_type": "markdown",
   "metadata": {},
   "source": [
    "### Se ocorrer algum erro, o código salvará o HTML da página em page_source.html para ajudar na depuração."
   ]
  },
  {
   "cell_type": "markdown",
   "metadata": {},
   "source": [
    "### Verificação de Sucesso\n",
    "Mensagens no Console:\n",
    "Verifique se as mensagens indicam que o download foi concluído e o arquivo ZIP foi criado.\n",
    "\n",
    "Verifique a Pasta:\n",
    "Após a execução, a pasta anexos deve ter sido criada (e posteriormente limpa, se estiver vazia) e o arquivo anexos_ans.zip deve estar no mesmo diretório.\n",
    "\n",
    "Depuração:\n",
    "Se ocorrer algum erro, abra o arquivo page_source.html para entender o que pode ter falhado na extração dos links."
   ]
  }
 ],
 "metadata": {
  "kernelspec": {
   "display_name": "Python 3",
   "language": "python",
   "name": "python3"
  },
  "language_info": {
   "codemirror_mode": {
    "name": "ipython",
    "version": 3
   },
   "file_extension": ".py",
   "mimetype": "text/x-python",
   "name": "python",
   "nbconvert_exporter": "python",
   "pygments_lexer": "ipython3",
   "version": "3.12.2"
  }
 },
 "nbformat": 4,
 "nbformat_minor": 2
}
